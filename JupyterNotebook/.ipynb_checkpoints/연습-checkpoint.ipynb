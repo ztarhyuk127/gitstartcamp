{
 "cells": [
  {
   "cell_type": "markdown",
   "id": "53d32c8d",
   "metadata": {},
   "source": [
    "# 문법을 공부할 때는 Jupyter가 좋다. \n",
    " 빨리 확인할 수 있어서..."
   ]
  },
  {
   "cell_type": "code",
   "execution_count": null,
   "id": "45083649",
   "metadata": {},
   "outputs": [],
   "source": [
    "a = \n"
   ]
  }
 ],
 "metadata": {
  "kernelspec": {
   "display_name": "Python 3 (ipykernel)",
   "language": "python",
   "name": "python3"
  },
  "language_info": {
   "codemirror_mode": {
    "name": "ipython",
    "version": 3
   },
   "file_extension": ".py",
   "mimetype": "text/x-python",
   "name": "python",
   "nbconvert_exporter": "python",
   "pygments_lexer": "ipython3",
   "version": "3.9.13"
  }
 },
 "nbformat": 4,
 "nbformat_minor": 5
}
