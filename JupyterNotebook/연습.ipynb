{
 "cells": [
  {
   "cell_type": "markdown",
   "id": "ed46cc0c",
   "metadata": {},
   "source": [
    "# 문법을 공부할 때는 Jupyter가 좋다. \n",
    " 빨리 확인할 수 있어서..."
   ]
  },
  {
   "cell_type": "code",
   "execution_count": null,
   "id": "b0607199",
   "metadata": {},
   "outputs": [],
   "source": [
    "\n"
   ]
  },
  {
   "cell_type": "code",
   "execution_count": null,
   "id": "84b9e7a7",
   "metadata": {},
   "outputs": [],
   "source": []
  }
 ],
 "metadata": {
  "kernelspec": {
   "display_name": "Python 3 (ipykernel)",
   "language": "python",
   "name": "python3"
  },
  "language_info": {
   "codemirror_mode": {
    "name": "ipython",
    "version": 3
   },
   "file_extension": ".py",
   "mimetype": "text/x-python",
   "name": "python",
   "nbconvert_exporter": "python",
   "pygments_lexer": "ipython3",
   "version": "3.9.13"
  }
 },
 "nbformat": 4,
 "nbformat_minor": 5
}
