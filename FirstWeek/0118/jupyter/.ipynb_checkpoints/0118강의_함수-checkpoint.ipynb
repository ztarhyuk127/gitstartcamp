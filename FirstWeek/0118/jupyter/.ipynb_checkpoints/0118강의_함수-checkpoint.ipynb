{
 "cells": [
  {
   "cell_type": "markdown",
   "id": "daa89cac",
   "metadata": {},
   "source": [
    "# 함수"
   ]
  },
  {
   "cell_type": "code",
   "execution_count": 2,
   "id": "441a6f15",
   "metadata": {},
   "outputs": [
    {
     "name": "stdout",
     "output_type": "stream",
     "text": [
      "3\n",
      "3\n"
     ]
    }
   ],
   "source": [
    "print(len([1,2,3]))\n",
    "\n",
    "lst = [1,2,3]\n",
    "cnt = 0\n",
    "for i in lst :\n",
    "    cnt += 1\n",
    "print(cnt)"
   ]
  },
  {
   "cell_type": "markdown",
   "id": "0f0514cd",
   "metadata": {},
   "source": [
    "len()함수와 밑의 반복문은 로직이 같지만 길이가 다르다."
   ]
  },
  {
   "cell_type": "code",
   "execution_count": 3,
   "id": "0d0ff626",
   "metadata": {},
   "outputs": [
    {
     "name": "stdout",
     "output_type": "stream",
     "text": [
      "6\n",
      "2.0\n"
     ]
    }
   ],
   "source": [
    "sum([1,2,3]) # 리스트 합 구하는 함수\n",
    "\n",
    "lst = [1,2,3]\n",
    "rst = 0\n",
    "for i in lst :\n",
    "    rst += i\n",
    "print(rst)  # 리스트 합 구하기\n",
    "\n",
    "sum(lst) / len(lst) # 리스트 평균 구하기\n",
    "\n",
    "lst = [1,2,3]\n",
    "cnt = 0\n",
    "rst = 0\n",
    "for i in lst :\n",
    "    rst += i\n",
    "    cnt += 1\n",
    "print(rst/cnt) # 리스트 평균 구하기"
   ]
  },
  {
   "cell_type": "markdown",
   "id": "e2b4c38e",
   "metadata": {},
   "source": [
    "## Abstraction 추상화\n",
    "\n",
    "복잡한 내용을 모르더라도 사용할 수 있도록 한다"
   ]
  },
  {
   "cell_type": "markdown",
   "id": "67954e00",
   "metadata": {},
   "source": [
    "### print\n",
    "\n",
    "이 함수는 어떻게 구현할 수 있을까?"
   ]
  },
  {
   "cell_type": "markdown",
   "id": "32645509",
   "metadata": {},
   "source": [
    "사실 내부구조를 바꾸는게 아니라면 몰라도 된다!"
   ]
  },
  {
   "cell_type": "markdown",
   "id": "c2f1cbd6",
   "metadata": {},
   "source": [
    "## 함수 기초"
   ]
  },
  {
   "cell_type": "markdown",
   "id": "19f5ec67",
   "metadata": {},
   "source": [
    "* 내장함수\n",
    " * 파이썬에 기본적으로 포함된 함수\n",
    " * print(), input(), sum(), len(), ...\n",
    " \n",
    "* 외장함수\n",
    " * import문을 통해 사용해, 외부 라이브러리에서 제공하는 함수\n",
    " \n",
    "* 사용자 정의 함수\n",
    " * 내가 만든 함수"
   ]
  },
  {
   "cell_type": "markdown",
   "id": "3c9d65ce",
   "metadata": {},
   "source": [
    " ### 함수\n",
    " \n",
    " * 특정한 기능을 하는 코드 조각(묶음)\n",
    " * 특정 코드를 매번 다시 작성하지 않고 필요시에만 호출하여 사용"
   ]
  },
  {
   "cell_type": "markdown",
   "id": "132cb224",
   "metadata": {},
   "source": [
    "### 함수의 기본 구조\n",
    "\n",
    "* 선언과 호출(define & call)\n",
    "* 입력(Input)\n",
    "* 문서화(Docstring)\n",
    "* 범위(Scope)\n",
    "* 결과값(Output)"
   ]
  },
  {
   "cell_type": "markdown",
   "id": "56df8a1e",
   "metadata": {},
   "source": [
    "* def : 함수를 정의\n",
    "* functionname : 식별자, 함수의 이름.\n",
    "* parameter : 매개변수, 함수에 들어갈 Input.\n",
    "* function body : 함수가 하는 어떠한 처리\n",
    "* return : 반환값, 함수의 결과값을 함수 바깥으로 내보낸다.\n",
    "* Docstring : function body 앞에 선택적으로 작성 가능하다."
   ]
  },
  {
   "cell_type": "code",
   "execution_count": 5,
   "id": "7e2ecb48",
   "metadata": {},
   "outputs": [
    {
     "data": {
      "text/plain": [
       "'\\ndef function_name(parameter) :\\n    # code block\\n    return returning_value\\n'"
      ]
     },
     "execution_count": 5,
     "metadata": {},
     "output_type": "execute_result"
    }
   ],
   "source": [
    "'''\n",
    "def function_name(parameter) :\n",
    "    # code block\n",
    "    return returning_value\n",
    "'''"
   ]
  },
  {
   "cell_type": "markdown",
   "id": "ef40b56f",
   "metadata": {},
   "source": [
    "### 값에 따른 함수의 종류\n",
    "\n",
    "Void Function\n",
    "* 명시적인 return 값이 없는 경우, None을 반환하고 종료\n",
    "\n",
    "Value returning function\n",
    "* 함수 실행 후, return문을 통해 값 반환\n",
    "* return을 하게 되면, 값 반환 후 함수가 바로 종료"
   ]
  },
  {
   "cell_type": "code",
   "execution_count": 6,
   "id": "4dd3b455",
   "metadata": {},
   "outputs": [
    {
     "name": "stdout",
     "output_type": "stream",
     "text": [
      "Hello World!\n",
      "None\n",
      "3.14\n"
     ]
    }
   ],
   "source": [
    "a = print('Hello World!')\n",
    "b = float('3.14')\n",
    "\n",
    "print(a) # None, a는 Hello World!를 출력하면서, None을 반환한다.\n",
    "print(b) # 3.14, float는 문자열 3.14를 실수 3.14로 바꾸고 반환한다."
   ]
  },
  {
   "cell_type": "markdown",
   "id": "0cf97df3",
   "metadata": {},
   "source": [
    "### print vs return\n",
    "\n",
    "print 함수와 return의 차이점\n",
    "* print를 사용하면 호출될 때마다 값이 출력됨(주로 테스트를 위해 사용)\n",
    "* 데이터 처리를 위해서는 return 사용"
   ]
  },
  {
   "cell_type": "code",
   "execution_count": 7,
   "id": "5d32ca33",
   "metadata": {},
   "outputs": [
    {
     "name": "stdout",
     "output_type": "stream",
     "text": [
      "4 x 5 = 20\n",
      "None\n"
     ]
    }
   ],
   "source": [
    "# Void function 예시\n",
    "\n",
    "def void_function(x,y) :\n",
    "    print(f'{x} x {y} = {x * y}')\n",
    "ans = void_function(4,5)\n",
    "print(ans)\n"
   ]
  },
  {
   "cell_type": "code",
   "execution_count": 8,
   "id": "a46210aa",
   "metadata": {},
   "outputs": [
    {
     "name": "stdout",
     "output_type": "stream",
     "text": [
      "20\n"
     ]
    }
   ],
   "source": [
    "# Value returning function 예시\n",
    "\n",
    "def value_returning_funtion(x,y) :\n",
    "    return x*y\n",
    "ans = value_returning_funtion(4,5)\n",
    "print(ans)"
   ]
  },
  {
   "cell_type": "markdown",
   "id": "b3931b27",
   "metadata": {},
   "source": [
    "### return은 하나만"
   ]
  },
  {
   "cell_type": "code",
   "execution_count": 9,
   "id": "bb7dc1fc",
   "metadata": {},
   "outputs": [
    {
     "name": "stdout",
     "output_type": "stream",
     "text": [
      "-1\n"
     ]
    }
   ],
   "source": [
    "def minus_and_product(x,y) :\n",
    "    return x - y\n",
    "    return x * y\n",
    "y = minus_and_product(4,5)\n",
    "print(y)\n",
    "\n",
    "# 밑에 있는 곱하기값 return은 실행이 안된다"
   ]
  },
  {
   "cell_type": "code",
   "execution_count": 10,
   "id": "71edc9a9",
   "metadata": {},
   "outputs": [
    {
     "name": "stdout",
     "output_type": "stream",
     "text": [
      "(-1, 20)\n"
     ]
    }
   ],
   "source": [
    "def minus_and_product(x,y) :\n",
    "    return x - y, x * y\n",
    "y = minus_and_product(4,5)\n",
    "print(y)"
   ]
  },
  {
   "cell_type": "markdown",
   "id": "94394909",
   "metadata": {},
   "source": [
    "여러 값을 반환시키고 싶다면 return 안에 다 넣어서 튜플 형식으로 반환한다."
   ]
  },
  {
   "cell_type": "markdown",
   "id": "ef9a8906",
   "metadata": {},
   "source": [
    "### Parameter와 Argument\n",
    "\n",
    "Parameter : 매개변수, 함수를 정의할 때, 함수 내부에서 사용되는 변수\n",
    "Argument : 인자, 함수를 호출 할 때, 넣어주는 값"
   ]
  },
  {
   "cell_type": "markdown",
   "id": "97e382dc",
   "metadata": {},
   "source": [
    "### Positional Arguments\n",
    "\n",
    "기본적으로 함수 호출 시 Argument는 위치에 따라 함수 내에 전달된다."
   ]
  },
  {
   "cell_type": "code",
   "execution_count": 11,
   "id": "f5260665",
   "metadata": {},
   "outputs": [
    {
     "name": "stdout",
     "output_type": "stream",
     "text": [
      "5\n"
     ]
    }
   ],
   "source": [
    "def add(x,y):\n",
    "    return x+y  \n",
    "\n",
    "xplusy = add(2,3)\n",
    "print(xplusy)"
   ]
  },
  {
   "cell_type": "markdown",
   "id": "74f9e498",
   "metadata": {},
   "source": [
    "### keyword Arguments\n",
    "\n",
    "* 직접 변수의 이름으로 특정 Argument를 전달할 수 있다.\n",
    "* Keyword Argument 다음에 Position Argument를 활용할 수 없다."
   ]
  },
  {
   "cell_type": "code",
   "execution_count": 17,
   "id": "67206772",
   "metadata": {},
   "outputs": [
    {
     "name": "stdout",
     "output_type": "stream",
     "text": [
      "7 7\n"
     ]
    }
   ],
   "source": [
    "def add(x,y):\n",
    "    return x+y\n",
    "\n",
    "b = add(x=2,y=5) # add(K,K)\n",
    "c =add(2, y= 5)  # add(P,K)\n",
    "print(b,c)       \n",
    "# add(x=2, 5) # add(K,P) 않 되!"
   ]
  },
  {
   "cell_type": "markdown",
   "id": "bbaa9d25",
   "metadata": {},
   "source": [
    "### Default Arguments Values\n",
    "\n",
    "기본값을 지정하여 함수 호출 시 argument 값을 설정하지 않도록 함\n",
    "* 정의된 것보다 더 적은 개수의 argument 들로 호출될 수 있음. "
   ]
  },
  {
   "cell_type": "markdown",
   "id": "92bd75c2",
   "metadata": {},
   "source": [
    "## Python의 범위(Scope)"
   ]
  },
  {
   "cell_type": "markdown",
   "id": "a0113b13",
   "metadata": {},
   "source": [
    "### Python의 범위(Scope)\n",
    "\n",
    "함수는 코드 내부에 local scope를 생성하며, 그 외의 공간인 global scope로 구분.\n",
    "\n",
    "* Namespace : 식별자를 기억하는 공간\n",
    "\n",
    "* Built-in Namespace : Python에서 다루는, 이미 들어있는 Namespace\n",
    " * print()\n",
    "* Global Namespace : Python 프로그램 내에서 생성된 Namespace\n",
    "* Enclosing Namespace : 함수 안에 다른 함수가 들어있을 때, 바깥쪽 부분.\n",
    "* Local Namespace : 함수를 실행할 때 생성되는 Namespace\n",
    "\n",
    "* Scope : 변수의 제한범위\n",
    " * global scope : 코드 어디에서든 참조할 수 있는 공간\n",
    " * local scope : 함수가 만든 scope. 함수 내부에서만 참조 가능\n",
    "\n",
    "* Variable : 변수\n",
    " * global variable : 광역변수, global scope에 정의된 변수\n",
    " * local variable : 지역변수, local scope에 정의된 변수"
   ]
  },
  {
   "cell_type": "code",
   "execution_count": 19,
   "id": "074da9a7",
   "metadata": {},
   "outputs": [
    {
     "name": "stdout",
     "output_type": "stream",
     "text": [
      "20\n"
     ]
    }
   ],
   "source": [
    "def func():\n",
    "    a = 20\n",
    "    print(a)  # local 20\n",
    "func()\n",
    "print(a) # a는 func()안에만 존재한다. "
   ]
  },
  {
   "cell_type": "markdown",
   "id": "6a8b5d5d",
   "metadata": {},
   "source": [
    "### 변수 수명주기(Lifecycle)\n",
    "\n",
    "built-in scope\n",
    "* Python 실행 이후부터 영원히 유지\n",
    "global scope\n",
    "* 모듈이 호출된 시점 이후 혹은 인터프리터가 끝날 때까지 유지\n",
    "local scope\n",
    "* 함수가 호출될 때 생성되고, 함수가 종료될 때까지 유지."
   ]
  },
  {
   "cell_type": "markdown",
   "id": "ea1b0d24",
   "metadata": {},
   "source": [
    "### 주의!\n",
    "\n",
    "함수 내에서 필요한 상위 scope변수는 argument로 넘겨서 활용할 것."
   ]
  }
 ],
 "metadata": {
  "kernelspec": {
   "display_name": "Python 3 (ipykernel)",
   "language": "python",
   "name": "python3"
  },
  "language_info": {
   "codemirror_mode": {
    "name": "ipython",
    "version": 3
   },
   "file_extension": ".py",
   "mimetype": "text/x-python",
   "name": "python",
   "nbconvert_exporter": "python",
   "pygments_lexer": "ipython3",
   "version": "3.9.13"
  }
 },
 "nbformat": 4,
 "nbformat_minor": 5
}
