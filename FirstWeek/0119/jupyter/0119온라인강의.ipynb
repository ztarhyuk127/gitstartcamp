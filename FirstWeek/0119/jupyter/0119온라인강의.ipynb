{
 "cells": [
  {
   "cell_type": "markdown",
   "id": "600fca16",
   "metadata": {},
   "source": [
    "# 함수의 응용"
   ]
  },
  {
   "cell_type": "markdown",
   "id": "7893b458",
   "metadata": {},
   "source": [
    "## map\n",
    "\n",
    "### map(function,iterable)\n",
    "\n",
    "순회 가능한 데이터구조(iterable)의 모든 요소에 함수(function)을 적용하고, 그 결과를  map object로 반환"
   ]
  },
  {
   "cell_type": "code",
   "execution_count": 5,
   "id": "283f0458",
   "metadata": {},
   "outputs": [
    {
     "name": "stdout",
     "output_type": "stream",
     "text": [
      "<map object at 0x000001E98AED1670>\n"
     ]
    }
   ],
   "source": [
    "def my_magic_func(n) :\n",
    "    return n * 10\n",
    "\n",
    "my_list = [1,2,3,4,5]\n",
    "\n",
    "rslt = map(my_magic_func , my_list)\n",
    "print(rslt)"
   ]
  },
  {
   "cell_type": "markdown",
   "id": "9f32bcbe",
   "metadata": {},
   "source": [
    "<map object at 0x000001E98AED1670 이런 식으로 나온다.\n",
    "my_list라는 리스트를 기초로 했지만,  rslt에 대한 자료형은 정의되지 않았기 때문.\n",
    "rslt를 리스트로 형변환 해주면 된다.\n"
   ]
  },
  {
   "cell_type": "code",
   "execution_count": 7,
   "id": "a4554132",
   "metadata": {},
   "outputs": [
    {
     "name": "stdout",
     "output_type": "stream",
     "text": [
      "[10, 20, 30, 40, 50]\n"
     ]
    }
   ],
   "source": [
    "def my_magic_func(n) :\n",
    "    return n * 10\n",
    "\n",
    "my_list = [1,2,3,4,5]\n",
    "\n",
    "rslt = map(my_magic_func , my_list)\n",
    "print(list(rslt))"
   ]
  },
  {
   "cell_type": "markdown",
   "id": "8124b567",
   "metadata": {},
   "source": [
    "### map 활용 사례\n",
    "\n",
    "* 알고리즘 문제 풀이시 input값들을 숫자로 바로 활용하고 싶을 때."
   ]
  },
  {
   "cell_type": "code",
   "execution_count": 8,
   "id": "b35c008c",
   "metadata": {},
   "outputs": [
    {
     "name": "stdout",
     "output_type": "stream",
     "text": [
      "214 334\n",
      "214 334\n",
      "<class 'int'> <class 'int'>\n"
     ]
    }
   ],
   "source": [
    "n , m = map(int, input().split())\n",
    "print(n,m)\n",
    "print(type(n),type(m))"
   ]
  },
  {
   "cell_type": "markdown",
   "id": "e7e30f28",
   "metadata": {},
   "source": [
    "## filter\n",
    "\n",
    "### filter(function, iterable)\n",
    "\n",
    "순회 가능한 데이터구조(iterable)의 모든 요소에 함수(function)을 적용하고, 그 결과가 True인 것들을 filter object로 반환"
   ]
  },
  {
   "cell_type": "code",
   "execution_count": 11,
   "id": "3b742e39",
   "metadata": {},
   "outputs": [
    {
     "name": "stdout",
     "output_type": "stream",
     "text": [
      "<filter object at 0x000001E98AEE1DC0> <class 'filter'>\n",
      "[1, 3, 5, 7, 9]\n"
     ]
    }
   ],
   "source": [
    "def odd(n):\n",
    "    return n%2\n",
    "numbers = [_ for _ in range(10)]\n",
    "result = filter(odd,numbers)\n",
    "print(result,type(result))\n",
    "# <filter object at 0x000001E98AFF0D00> <class 'filter'>\n",
    "\n",
    "print(list(result)) #[1,3]\n",
    "# 리스트 형변환을 통해 결과 직접 확인"
   ]
  },
  {
   "cell_type": "markdown",
   "id": "8f3517b8",
   "metadata": {},
   "source": [
    "## zip\n",
    "\n",
    "### zip(*iterables)\n",
    "\n",
    "복수의 순회 가능한 데이터구조(iterable)을 모아 튜플을 원소로 하는 zip object를 반환\n"
   ]
  },
  {
   "cell_type": "code",
   "execution_count": 15,
   "id": "a9bca6e4",
   "metadata": {},
   "outputs": [
    {
     "name": "stdout",
     "output_type": "stream",
     "text": [
      "('신동민', 17)\n",
      "('서재현', 18)\n",
      "('박영서', 22)\n",
      "('이태성', 24)\n",
      "('정예원', 25)\n",
      "('이은석', 19)\n",
      "신동민 17\n",
      "서재현 18\n",
      "박영서 22\n",
      "이태성 24\n",
      "정예원 25\n",
      "이은석 19\n"
     ]
    }
   ],
   "source": [
    "name_list = ['신동민','서재현','박영서','이태성','정예원','이은석']\n",
    "age_list = [17, 18, 22, 24, 25, 19]\n",
    "\n",
    "for each in zip(name_list,age_list):\n",
    "    print(each)\n",
    "    \n",
    "for name, age in zip(name_list,age_list):\n",
    "    print(name, age)\n"
   ]
  },
  {
   "cell_type": "markdown",
   "id": "ece7a17b",
   "metadata": {},
   "source": [
    "## lambda 함수\n",
    "\n",
    "### lambda [parameter] : 표현식\n",
    "\n",
    "#### 람다함수\n",
    "* 표현식을 계싼한 결과값을 반환하는 함수로, 이름이 없는 함수여서 익명 함수라고도 불린다.\n",
    "\n",
    "#### 특징\n",
    "* return문을 가질 수 없다.\n",
    "* 간편 조건문 외 조건문이나 반복문을 가질 수 없다.\n",
    "\n",
    "#### 장점\n",
    "* 함수를 정의해서 사용하는 것보다 간결하게 사용 가능하다.\n",
    "* def를 사용할 수 없는 곳에서도 사용가능하다."
   ]
  },
  {
   "cell_type": "code",
   "execution_count": 28,
   "id": "5452fa75",
   "metadata": {},
   "outputs": [
    {
     "name": "stdout",
     "output_type": "stream",
     "text": [
      "[10, 20, 30, 40, 50, 60, 70, 80, 90]\n"
     ]
    }
   ],
   "source": [
    "def mult_ten(n) :\n",
    "    return n * 10\n",
    "\n",
    "map_obj = map(mult_ten,[i for i in range(1,10)])\n",
    "rlt = list(map_obj)\n",
    "print(rlt)\n",
    "\n",
    "# 간단한건데, 잉 귀찮아."
   ]
  },
  {
   "cell_type": "markdown",
   "id": "ee1d0589",
   "metadata": {},
   "source": [
    "### lambda [parameter] : 매개변수를 이용한 리턴값"
   ]
  },
  {
   "cell_type": "code",
   "execution_count": 29,
   "id": "d9688075",
   "metadata": {},
   "outputs": [
    {
     "name": "stdout",
     "output_type": "stream",
     "text": [
      "[10, 20, 30, 40, 50, 60, 70, 80, 90]\n"
     ]
    }
   ],
   "source": [
    "#def mult_ten(n) :\n",
    "#   return n * 10 날림\n",
    "\n",
    "map_obj = map(lambda n : n * 10 ,[i for i in range(1,10)])\n",
    "rlt = list(map_obj)\n",
    "print(rlt)\n"
   ]
  },
  {
   "cell_type": "markdown",
   "id": "b02892d1",
   "metadata": {},
   "source": [
    "## 재귀 함수(recursive function)\n",
    "\n",
    "자기 자신을 호출하는 함수\n",
    "\n",
    "무한한 호출을 목표로 하는 건 X , 알고리즘 설계 및 구현에서 유용하게 활용.\n",
    "* 알고리즘 중 재귀 함수로 로직을 표현하기 쉬운 경우가 있음(ex - 점화식)\n",
    "* 변수의 사용이 줄어들며, 코드의 가독성이 높아짐.\n",
    "\n",
    "1개 이상의 base case(종료되는 상황)가 존재하고, 수렴하도록 작성해야 한다.(안하면 에러 터진다)"
   ]
  },
  {
   "cell_type": "code",
   "execution_count": 1,
   "id": "498983d9",
   "metadata": {},
   "outputs": [
    {
     "data": {
      "text/plain": [
       "\"\\ndef recur():\\n    print('a')\\n    recur()\\nrecur()\\n\""
      ]
     },
     "execution_count": 1,
     "metadata": {},
     "output_type": "execute_result"
    }
   ],
   "source": [
    "'''\n",
    "def recur():\n",
    "    print('a')\n",
    "    recur()\n",
    "recur()\n",
    "''' # 주피터 죽어서 주석처리함."
   ]
  },
  {
   "cell_type": "code",
   "execution_count": 6,
   "id": "5b6a26f3",
   "metadata": {},
   "outputs": [
    {
     "name": "stdout",
     "output_type": "stream",
     "text": [
      "120\n"
     ]
    }
   ],
   "source": [
    "def factorial(n) :\n",
    "    if n == 0 or n == 1:\n",
    "        return 1\n",
    "    else :\n",
    "        return n * factorial(n-1)\n",
    "print(factorial(5))\n",
    "\n",
    "# 5!\n",
    "# 5 * 4!\n",
    "# 5 * 4 * 3!\n",
    "# 5 * 4 * 3 * 2!\n",
    "# 5 * 4 * 3 * 2 * 1!\n",
    "# 5 * 4 * 3 * 2 * 1\n",
    "\n",
    "# f(5)\n",
    "# 5 * f(4)\n",
    "# 5 * 4 * f(3)\n",
    "# 5 * 4 * 3 * f(2)\n",
    "# 5 * 4 * 3 * 2 * f(1)\n",
    "# 5 * 4 * 3 * 2 * 1"
   ]
  },
  {
   "cell_type": "markdown",
   "id": "02080575",
   "metadata": {},
   "source": [
    "### 재귀는 이해하기 어렵다.\n",
    "\n",
    "재귀하는 느낌이 들면 종이를 꺼내 base case까지 계산해서 어떻게 되는지 본다."
   ]
  },
  {
   "cell_type": "markdown",
   "id": "3c4af568",
   "metadata": {},
   "source": [
    "# 패킹 언패킹"
   ]
  },
  {
   "cell_type": "code",
   "execution_count": 8,
   "id": "51515654",
   "metadata": {},
   "outputs": [
    {
     "name": "stdout",
     "output_type": "stream",
     "text": [
      "(1, 2, 3)\n"
     ]
    }
   ],
   "source": [
    "# 패킹 / 언패킹   *\n",
    "\n",
    "x , y = 1 , 2\n",
    "z = 1 , 2 , 3\n",
    "\n",
    "print(z)"
   ]
  },
  {
   "cell_type": "code",
   "execution_count": 17,
   "id": "f6dc9e94",
   "metadata": {},
   "outputs": [
    {
     "name": "stdout",
     "output_type": "stream",
     "text": [
      "1 [2, 3, 4]\n",
      "5 6 [7, 8]\n"
     ]
    }
   ],
   "source": [
    "# 패킹\n",
    "# a, b = 1, 2, 3, 4 에러남\n",
    "\n",
    "a, *b = 1, 2, 3, 4\n",
    "print(a, b)\n",
    "c,d,*e = 5,6,7,8\n",
    "print(c,d,e)"
   ]
  },
  {
   "cell_type": "code",
   "execution_count": 16,
   "id": "01496502",
   "metadata": {},
   "outputs": [
    {
     "name": "stdout",
     "output_type": "stream",
     "text": [
      "60\n"
     ]
    }
   ],
   "source": [
    "def my_sum(a,b,c) :\n",
    "    return a + b + c\n",
    "num_list = [10, 20, 30]\n",
    "\n",
    "# rlt = my_sum(num_list[0], num_list[1], num_list[2])\n",
    "rlt = my_sum(*num_list)\n",
    "print(rlt)\n",
    "\n",
    "# 주석처리한 부분, 그리고 그 밑부분은 완전히 똑같다."
   ]
  },
  {
   "cell_type": "code",
   "execution_count": 22,
   "id": "cf6a20c8",
   "metadata": {},
   "outputs": [
    {
     "name": "stdout",
     "output_type": "stream",
     "text": [
      "1\n",
      "1\n",
      "2\n",
      "1\n",
      "2\n",
      "3\n",
      "4\n",
      "[1, 2, 3, 4]\n",
      "(1, 2, 3, 4)\n"
     ]
    }
   ],
   "source": [
    "def test(*values):\n",
    "    for value in values :\n",
    "        print(value)\n",
    "        \n",
    "test(1)\n",
    "test(1,2)\n",
    "test(1,2,3,4)\n",
    "lst = [1, 2, 3, 4]\n",
    "tup = (1,2,3,4)\n",
    "test(lst)\n",
    "test(tup)"
   ]
  },
  {
   "cell_type": "code",
   "execution_count": 27,
   "id": "ab7cbe9f",
   "metadata": {},
   "outputs": [
    {
     "data": {
      "text/plain": [
       "10"
      ]
     },
     "execution_count": 27,
     "metadata": {},
     "output_type": "execute_result"
    }
   ],
   "source": [
    "def my_sum(*args) :\n",
    "    rlt = 0\n",
    "    for value in args:\n",
    "        rlt += value\n",
    "    return rlt\n",
    "my_sum(0) # 0\n",
    "my_sum(1,2,3,4)\n"
   ]
  },
  {
   "cell_type": "code",
   "execution_count": 31,
   "id": "798a2a36",
   "metadata": {},
   "outputs": [
    {
     "name": "stdout",
     "output_type": "stream",
     "text": [
      "{'name': 'aiden', 'age': 21, 'music': 'IU'} <class 'dict'>\n"
     ]
    },
    {
     "data": {
      "text/plain": [
       "'aiden'"
      ]
     },
     "execution_count": 31,
     "metadata": {},
     "output_type": "execute_result"
    }
   ],
   "source": [
    "def test(**kwargs):\n",
    "    print(kwargs,type(kwargs))\n",
    "    kwname = kwargs['name']\n",
    "    return kwname\n",
    "\n",
    "test(name = 'aiden', age = 21, music = 'IU')\n"
   ]
  },
  {
   "cell_type": "code",
   "execution_count": 32,
   "id": "06167484",
   "metadata": {},
   "outputs": [
    {
     "name": "stdout",
     "output_type": "stream",
     "text": [
      "{'name': 'aiden', 'age': 21, 'music': 'IU'} <class 'dict'>\n"
     ]
    },
    {
     "data": {
      "text/plain": [
       "'aiden'"
      ]
     },
     "execution_count": 32,
     "metadata": {},
     "output_type": "execute_result"
    }
   ],
   "source": [
    "def test(*args, **kwargs):\n",
    "    print(kwargs,type(kwargs))\n",
    "    kwname = kwargs['name']\n",
    "    return kwname\n",
    "\n",
    "test(1,2,3,4,5,name = 'aiden', age = 21, music = 'IU')"
   ]
  },
  {
   "cell_type": "code",
   "execution_count": 33,
   "id": "23701281",
   "metadata": {},
   "outputs": [],
   "source": []
  },
  {
   "cell_type": "code",
   "execution_count": null,
   "id": "c4d700d7",
   "metadata": {},
   "outputs": [],
   "source": []
  },
  {
   "cell_type": "code",
   "execution_count": null,
   "id": "35a4fb5e",
   "metadata": {},
   "outputs": [],
   "source": []
  },
  {
   "cell_type": "code",
   "execution_count": null,
   "id": "f5f749d1",
   "metadata": {},
   "outputs": [],
   "source": []
  },
  {
   "cell_type": "code",
   "execution_count": null,
   "id": "0349a51c",
   "metadata": {},
   "outputs": [],
   "source": []
  }
 ],
 "metadata": {
  "kernelspec": {
   "display_name": "Python 3 (ipykernel)",
   "language": "python",
   "name": "python3"
  },
  "language_info": {
   "codemirror_mode": {
    "name": "ipython",
    "version": 3
   },
   "file_extension": ".py",
   "mimetype": "text/x-python",
   "name": "python",
   "nbconvert_exporter": "python",
   "pygments_lexer": "ipython3",
   "version": "3.9.13"
  }
 },
 "nbformat": 4,
 "nbformat_minor": 5
}
