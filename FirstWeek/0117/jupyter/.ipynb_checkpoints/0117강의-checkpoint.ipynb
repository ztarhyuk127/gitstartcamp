{
 "cells": [
  {
   "cell_type": "markdown",
   "id": "d90e9556",
   "metadata": {},
   "source": [
    "# 절대값을 표현하는 식"
   ]
  },
  {
   "cell_type": "code",
   "execution_count": 5,
   "id": "d7238001",
   "metadata": {},
   "outputs": [
    {
     "name": "stdout",
     "output_type": "stream",
     "text": [
      "4\n"
     ]
    }
   ],
   "source": [
    "num = -4\n",
    "value = num if num >=0 else -num\n",
    "print(value)"
   ]
  },
  {
   "cell_type": "markdown",
   "id": "c2e1de6e",
   "metadata": {},
   "source": [
    "# 조건표현식 실습문제"
   ]
  },
  {
   "cell_type": "markdown",
   "id": "1156ecde",
   "metadata": {},
   "source": [
    "## 1"
   ]
  },
  {
   "cell_type": "code",
   "execution_count": 6,
   "id": "fd5342f8",
   "metadata": {},
   "outputs": [
    {
     "name": "stdout",
     "output_type": "stream",
     "text": [
      "짝수입니다.\n"
     ]
    }
   ],
   "source": [
    "num = 2\n",
    "if num % 2 :\n",
    "    result = '홀수입니다'\n",
    "else :\n",
    "    result = '짝수입니다.'\n",
    "print(result)"
   ]
  },
  {
   "cell_type": "code",
   "execution_count": 7,
   "id": "a6790db6",
   "metadata": {},
   "outputs": [
    {
     "name": "stdout",
     "output_type": "stream",
     "text": [
      "짝수입니다\n"
     ]
    }
   ],
   "source": [
    "num = 2\n",
    "result = '홀수입니다' if num % 2 else '짝수입니다'\n",
    "print(result)"
   ]
  },
  {
   "cell_type": "markdown",
   "id": "f15de32f",
   "metadata": {},
   "source": [
    "## 2"
   ]
  },
  {
   "cell_type": "code",
   "execution_count": 8,
   "id": "32ae8cf8",
   "metadata": {},
   "outputs": [
    {
     "name": "stdout",
     "output_type": "stream",
     "text": [
      "0\n"
     ]
    }
   ],
   "source": [
    "num = -5\n",
    "value =num if num >=0 else 0\n",
    "print(value)"
   ]
  },
  {
   "cell_type": "code",
   "execution_count": 9,
   "id": "92762b50",
   "metadata": {},
   "outputs": [
    {
     "name": "stdout",
     "output_type": "stream",
     "text": [
      "0\n"
     ]
    }
   ],
   "source": [
    "num = -5\n",
    "if num >=0 :\n",
    "    value = num\n",
    "else :\n",
    "    value = 0\n",
    "print(value)"
   ]
  },
  {
   "cell_type": "markdown",
   "id": "04a8fa2f",
   "metadata": {},
   "source": [
    "# For"
   ]
  },
  {
   "cell_type": "markdown",
   "id": "8bd8eae1",
   "metadata": {},
   "source": [
    "## 문자열 순회"
   ]
  },
  {
   "cell_type": "code",
   "execution_count": 10,
   "id": "22b62c6e",
   "metadata": {},
   "outputs": [
    {
     "name": "stdout",
     "output_type": "stream",
     "text": [
      "apple\n",
      "banana\n",
      "mango\n",
      "끝\n"
     ]
    }
   ],
   "source": [
    "for fruit in ['apple','banana','mango'] :\n",
    "    print(fruit)\n",
    "print('끝')"
   ]
  },
  {
   "cell_type": "code",
   "execution_count": 12,
   "id": "e68d8c1e",
   "metadata": {},
   "outputs": [
    {
     "name": "stdout",
     "output_type": "stream",
     "text": [
      "ssafy\n",
      "s\n",
      "s\n",
      "a\n",
      "f\n",
      "y\n"
     ]
    }
   ],
   "source": [
    "chars = input()\n",
    "for words in chars :\n",
    "    print(words)"
   ]
  },
  {
   "cell_type": "markdown",
   "id": "241578bc",
   "metadata": {},
   "source": [
    "## range활용"
   ]
  },
  {
   "cell_type": "code",
   "execution_count": 13,
   "id": "80ed94a1",
   "metadata": {},
   "outputs": [
    {
     "name": "stdout",
     "output_type": "stream",
     "text": [
      "ssafy\n",
      "s\n",
      "s\n",
      "a\n",
      "f\n",
      "y\n"
     ]
    }
   ],
   "source": [
    "chars = input()\n",
    "for i in range(len(chars)):\n",
    "    print(chars[i])"
   ]
  },
  {
   "cell_type": "markdown",
   "id": "3a23c8f9",
   "metadata": {},
   "source": [
    "## 딕셔너리(dictionary) 순회\n",
    "\n",
    "딕셔너리는 기본적으로 key를 순회하며 key를 통해 값을 활용한다."
   ]
  },
  {
   "cell_type": "code",
   "execution_count": 14,
   "id": "c153d421",
   "metadata": {},
   "outputs": [
    {
     "name": "stdout",
     "output_type": "stream",
     "text": [
      "john\n",
      "eric\n"
     ]
    }
   ],
   "source": [
    "grades = {'john' : 80, 'eric' : 90}\n",
    "for students in grades :\n",
    "    print(students)"
   ]
  },
  {
   "cell_type": "code",
   "execution_count": 18,
   "id": "a9930ea4",
   "metadata": {},
   "outputs": [
    {
     "name": "stdout",
     "output_type": "stream",
     "text": [
      "john 80\n",
      "eric 90\n"
     ]
    }
   ],
   "source": [
    "grades = {'john' : 80, 'eric' : 90}\n",
    "for students in grades :\n",
    "    print(students, grades[students])"
   ]
  },
  {
   "cell_type": "markdown",
   "id": "bc2afe70",
   "metadata": {},
   "source": [
    "## 추가 메서드를 활용한 딕셔너리 순회\n",
    "\n",
    "추가 메서드를 활용하여 순회할 수 있다.\n",
    "* keys() : Key로 구성된 결과\n",
    "* values() : value로 구성된 결과\n",
    "* items() : (Key,values)의 튜플로 구성된 결과"
   ]
  },
  {
   "cell_type": "code",
   "execution_count": 19,
   "id": "c2624d05",
   "metadata": {},
   "outputs": [
    {
     "name": "stdout",
     "output_type": "stream",
     "text": [
      "dict_keys(['john', 'eric'])\n",
      "dict_values([80, 90])\n",
      "dict_items([('john', 80), ('eric', 90)])\n"
     ]
    }
   ],
   "source": [
    "grades = {'john' : 80, 'eric' : 90}\n",
    "print(grades.keys())\n",
    "print(grades.values())\n",
    "print(grades.items())"
   ]
  },
  {
   "cell_type": "code",
   "execution_count": 20,
   "id": "7455556b",
   "metadata": {},
   "outputs": [
    {
     "name": "stdout",
     "output_type": "stream",
     "text": [
      "john 80\n",
      "eric 90\n"
     ]
    }
   ],
   "source": [
    "grades = {'john' : 80, 'eric' : 90}\n",
    "for student, grade in grades.items():\n",
    "    print(student, grade)"
   ]
  },
  {
   "cell_type": "markdown",
   "id": "0bfb8a95",
   "metadata": {},
   "source": [
    "## Enumerate 순회 <몰라도 된다>\n",
    "\n",
    "enumerate()\n",
    "* 인덱스와 객체를 쌍으로 담은 열거형(enumerate) 객체 반환\n",
    "* (index,value)형태의 튜플로 구성된 열거 객체를 반환"
   ]
  },
  {
   "cell_type": "code",
   "execution_count": 23,
   "id": "e96cc08b",
   "metadata": {},
   "outputs": [
    {
     "name": "stdout",
     "output_type": "stream",
     "text": [
      "0 민수\n",
      "1 영희\n",
      "2 철수\n"
     ]
    }
   ],
   "source": [
    "members = ['민수','영희','철수']\n",
    "\n",
    "for idx,number in enumerate(members):\n",
    "    print(idx,number)"
   ]
  },
  {
   "cell_type": "code",
   "execution_count": 24,
   "id": "b4b5e92e",
   "metadata": {},
   "outputs": [
    {
     "name": "stdout",
     "output_type": "stream",
     "text": [
      "(0, '민수')\n",
      "(1, '영희')\n",
      "(2, '철수')\n"
     ]
    }
   ],
   "source": [
    "members = ['민수','영희','철수']\n",
    "\n",
    "for i in enumerate(members):\n",
    "    print(i)"
   ]
  },
  {
   "cell_type": "code",
   "execution_count": 25,
   "id": "1ff88c53",
   "metadata": {},
   "outputs": [
    {
     "name": "stdout",
     "output_type": "stream",
     "text": [
      "[(0, '민수'), (1, '영희'), (2, '철수')]\n",
      "[(1, '민수'), (2, '영희'), (3, '철수')]\n"
     ]
    }
   ],
   "source": [
    "members = ['민수','영희','철수']\n",
    "enmem=enumerate(members)\n",
    "print(list(enumerate(members)))\n",
    "print(list(enumerate(members,start=1)))"
   ]
  },
  {
   "cell_type": "markdown",
   "id": "4d37bc76",
   "metadata": {},
   "source": [
    "기본값은 0, start를 지정하면 해당 값부터 순차적으로 증가"
   ]
  },
  {
   "cell_type": "markdown",
   "id": "7376979e",
   "metadata": {},
   "source": [
    "## List Comprehension\n",
    "\n",
    "표현식과 제어문을 통해 특정한 값으 가진 리스트를 간결하게 생성하는 방법"
   ]
  },
  {
   "cell_type": "markdown",
   "id": "414bd01f",
   "metadata": {},
   "source": [
    "[code for 변수 in iterable]\n",
    "[code for 변수 in iterable if 조건식]"
   ]
  },
  {
   "cell_type": "code",
   "execution_count": 26,
   "id": "7b6fb306",
   "metadata": {},
   "outputs": [
    {
     "name": "stdout",
     "output_type": "stream",
     "text": [
      "[1, 8, 27]\n"
     ]
    }
   ],
   "source": [
    "# 1~3의 세제곱 리스트 만들기 \n",
    "# 일반 for 문\n",
    "\n",
    "cubic_list = []\n",
    "for num in range(1,4):\n",
    "    cubic_list.append(num ** 3)\n",
    "print(cubic_list)"
   ]
  },
  {
   "cell_type": "code",
   "execution_count": 28,
   "id": "94686a2f",
   "metadata": {},
   "outputs": [
    {
     "name": "stdout",
     "output_type": "stream",
     "text": [
      "[1, 8, 27]\n"
     ]
    }
   ],
   "source": [
    "# List Comprehension\n",
    "\n",
    "cubic_list = [num ** 3 for num in range(1,4)]\n",
    "print(cubic_list)\n",
    "\n",
    "# cubic_list라는 list에는 num 의 세제곱 값이 들어갈 것이다.\n",
    "# num은 1~3까지 순회하는 수다.\n",
    "# 첫 순회때 num은 1 이므로 첫 인덱스는 1\n",
    "# 두번째 때 num은 2 이므로 두번째 인덱스는 8\n",
    "# 세번째 때 num은 3 이므로 세번째 인덱스는 27"
   ]
  },
  {
   "cell_type": "markdown",
   "id": "b2de85c9",
   "metadata": {},
   "source": [
    "## Dictionary Comprehension\n",
    "\n",
    "표현식과 제어문을 통해 특정한 값을 가진 딕셔너리를 간결하게 생성할 수 있다.\n",
    "\n",
    "{key : value for 변수 in iterable}\n",
    "{key : value for 변수 in iterable if 조건식}"
   ]
  },
  {
   "cell_type": "code",
   "execution_count": 30,
   "id": "10e4cbf9",
   "metadata": {},
   "outputs": [
    {
     "name": "stdout",
     "output_type": "stream",
     "text": [
      "{1: 1, 2: 8, 3: 27}\n"
     ]
    }
   ],
   "source": [
    "# 1~3의 세제곱 딕셔너리 만들기\n",
    "\n",
    "cubic_dict = {}\n",
    "for num in range(1,4):\n",
    "    cubic_dict[num] = num ** 3\n",
    "print(cubic_dict)\n",
    "    "
   ]
  },
  {
   "cell_type": "code",
   "execution_count": 31,
   "id": "ea76a96c",
   "metadata": {},
   "outputs": [
    {
     "name": "stdout",
     "output_type": "stream",
     "text": [
      "{1: 1, 2: 8, 3: 27}\n"
     ]
    }
   ],
   "source": [
    "cubic_dict = {num : num ** 3 for num in range(1,4)}\n",
    "print(cubic_dict)"
   ]
  },
  {
   "cell_type": "markdown",
   "id": "0fb00b4d",
   "metadata": {},
   "source": [
    "## 반복문 제어\n",
    "\n",
    "* break\n",
    " * 반복문을 종료\n",
    "\n",
    "* continue\n",
    " * continue 이후의 코드 블록은 수행하지 않고, 다음 반복을 수행\n",
    "\n",
    "* for-else\n",
    " * 끝까지 반복문을 실행한 이후에 else문 실행\n",
    "  * break를 통해 중간에 종료되는 경우 else문은 실행되지 않음\n",
    "\n",
    "* pass\n",
    " * 아무것도 하지 않음(문법적으로 필요하지만, 할 일이 없을 때 사용한다.)"
   ]
  },
  {
   "cell_type": "markdown",
   "id": "a02811bb",
   "metadata": {},
   "source": [
    "### break"
   ]
  },
  {
   "cell_type": "code",
   "execution_count": 3,
   "id": "189b302b",
   "metadata": {},
   "outputs": [
    {
     "name": "stdout",
     "output_type": "stream",
     "text": [
      "0\n",
      "1\n",
      "2\n"
     ]
    }
   ],
   "source": [
    "n = 0\n",
    "while True :\n",
    "    if n == 3:\n",
    "        break\n",
    "    print(n)\n",
    "    n += 1"
   ]
  },
  {
   "cell_type": "code",
   "execution_count": 2,
   "id": "a6804c72",
   "metadata": {},
   "outputs": [
    {
     "name": "stdout",
     "output_type": "stream",
     "text": [
      "0\n",
      "1\n",
      "0과 1만 필요해\n"
     ]
    }
   ],
   "source": [
    "for i in range(10):\n",
    "    if i >1 :\n",
    "        print('0과 1만 필요해')\n",
    "        break\n",
    "    print(i)"
   ]
  },
  {
   "cell_type": "markdown",
   "id": "6adad43e",
   "metadata": {},
   "source": [
    "### continue\n",
    "\n",
    "continue 이후의 코드 블록은 수행하지 않고, 다음 반복을 수행"
   ]
  },
  {
   "cell_type": "code",
   "execution_count": 4,
   "id": "9dece8d5",
   "metadata": {},
   "outputs": [
    {
     "name": "stdout",
     "output_type": "stream",
     "text": [
      "1\n",
      "3\n",
      "5\n"
     ]
    }
   ],
   "source": [
    "for i in range(6):\n",
    "    if i % 2 == 0:\n",
    "        continue\n",
    "    print(i)"
   ]
  },
  {
   "cell_type": "markdown",
   "id": "6ccf4ec8",
   "metadata": {},
   "source": [
    "### pass\n",
    "\n",
    "아무것도 하지 않는다.\n",
    "* 특별히 할 일이 없을 때 자리를 채우는 용도로 사용\n",
    "* 반복문 아니어도 사용 가능"
   ]
  },
  {
   "cell_type": "code",
   "execution_count": 5,
   "id": "0d65b563",
   "metadata": {},
   "outputs": [
    {
     "name": "stdout",
     "output_type": "stream",
     "text": [
      "0\n",
      "1\n",
      "2\n",
      "3\n"
     ]
    }
   ],
   "source": [
    "for i in range(4) :\n",
    "    if i ==2:\n",
    "        pass\n",
    "    print(i)"
   ]
  },
  {
   "cell_type": "code",
   "execution_count": 6,
   "id": "bbd6eb94",
   "metadata": {},
   "outputs": [
    {
     "name": "stdout",
     "output_type": "stream",
     "text": [
      "0\n",
      "1\n",
      "3\n"
     ]
    }
   ],
   "source": [
    "for i in range(4) :\n",
    "    if i == 2:\n",
    "        continue\n",
    "    print(i)"
   ]
  },
  {
   "cell_type": "markdown",
   "id": "416daf56",
   "metadata": {},
   "source": [
    "### for-else\n",
    "\n",
    "끝까지 반복문을 실행한 이후에 else문 실행"
   ]
  },
  {
   "cell_type": "code",
   "execution_count": 9,
   "id": "9940e520",
   "metadata": {},
   "outputs": [
    {
     "name": "stdout",
     "output_type": "stream",
     "text": [
      "b가 없습니다.\n"
     ]
    }
   ],
   "source": [
    "for char in 'apple':\n",
    "    if char == 'b':\n",
    "        print('b')\n",
    "        break\n",
    "else :\n",
    "    print('b가 없습니다.')"
   ]
  },
  {
   "cell_type": "code",
   "execution_count": 10,
   "id": "6baebe05",
   "metadata": {},
   "outputs": [
    {
     "name": "stdout",
     "output_type": "stream",
     "text": [
      "b\n"
     ]
    }
   ],
   "source": [
    "for char in 'banana':\n",
    "    if char == 'b':\n",
    "        print('b')\n",
    "        break\n",
    "else :\n",
    "    print('b가 없습니다.')"
   ]
  },
  {
   "cell_type": "code",
   "execution_count": null,
   "id": "f9c823e1",
   "metadata": {},
   "outputs": [],
   "source": []
  }
 ],
 "metadata": {
  "kernelspec": {
   "display_name": "Python 3 (ipykernel)",
   "language": "python",
   "name": "python3"
  },
  "language_info": {
   "codemirror_mode": {
    "name": "ipython",
    "version": 3
   },
   "file_extension": ".py",
   "mimetype": "text/x-python",
   "name": "python",
   "nbconvert_exporter": "python",
   "pygments_lexer": "ipython3",
   "version": "3.9.13"
  }
 },
 "nbformat": 4,
 "nbformat_minor": 5
}
