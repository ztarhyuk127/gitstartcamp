{
 "cells": [
  {
   "cell_type": "code",
   "execution_count": 3,
   "id": "50cd2769",
   "metadata": {},
   "outputs": [
    {
     "name": "stdout",
     "output_type": "stream",
     "text": [
      "홀수\n"
     ]
    }
   ],
   "source": [
    "num = 11\n",
    "result = '짝수' if num % 2 == 0 else \"홀수\"\n",
    "print(result)"
   ]
  },
  {
   "cell_type": "code",
   "execution_count": 4,
   "id": "0d81a29e",
   "metadata": {},
   "outputs": [
    {
     "data": {
      "text/plain": [
       "'\\ncnt = 0\\nwhile cnt ~~ :\\n    반복할 내용\\n'"
      ]
     },
     "execution_count": 4,
     "metadata": {},
     "output_type": "execute_result"
    }
   ],
   "source": [
    "'''\n",
    "cnt = 0\n",
    "while cnt ~~ :\n",
    "    반복할 내용\n",
    "'''    "
   ]
  },
  {
   "cell_type": "code",
   "execution_count": 5,
   "id": "919b891e",
   "metadata": {},
   "outputs": [],
   "source": [
    "# iterable : 순회할 수 있는~ 정수x, 실수x\n",
    "# Container 자료형인 리스트, 튜플, 딕셔너리 ... 다 iterable이다.\n",
    "# 잘 모르겠으면 for로 순회시키면 iterable인지 아닌지 알 수 있다."
   ]
  },
  {
   "cell_type": "code",
   "execution_count": 6,
   "id": "03b785cc",
   "metadata": {},
   "outputs": [
    {
     "name": "stdout",
     "output_type": "stream",
     "text": [
      "1 2 3 "
     ]
    }
   ],
   "source": [
    "for item in {1,2,3}:\n",
    "    print(item, end =' ')"
   ]
  },
  {
   "cell_type": "code",
   "execution_count": 14,
   "id": "962761bd",
   "metadata": {},
   "outputs": [
    {
     "name": "stdout",
     "output_type": "stream",
     "text": [
      "김 이 최 "
     ]
    }
   ],
   "source": [
    "manDict = {1:'김',2:'이',3:'최'}\n",
    "for item in manDict:\n",
    "    print(manDict[item],end =' ')"
   ]
  },
  {
   "cell_type": "code",
   "execution_count": 15,
   "id": "1fc99319",
   "metadata": {},
   "outputs": [
    {
     "name": "stdout",
     "output_type": "stream",
     "text": [
      "key1 key2 key3 key4 "
     ]
    }
   ],
   "source": [
    "keyval = {'key1':'val1','key2':'val2','key3':'val3','key4':'val4'}\n",
    "for key in keyval:\n",
    "    print(key,end=' ')"
   ]
  },
  {
   "cell_type": "code",
   "execution_count": 19,
   "id": "4b9fd6d4",
   "metadata": {},
   "outputs": [
    {
     "name": "stdout",
     "output_type": "stream",
     "text": [
      "val1 val2 val3 val4 "
     ]
    }
   ],
   "source": [
    "keyval = {'key1':'val1','key2':'val2','key3':'val3','key4':'val4'}\n",
    "for val in keyval:\n",
    "    print(keyval[val],end=' ')"
   ]
  },
  {
   "cell_type": "code",
   "execution_count": 30,
   "id": "e5edf4b8",
   "metadata": {},
   "outputs": [
    {
     "name": "stdout",
     "output_type": "stream",
     "text": [
      "dict_keys(['key1', 'key2', 'key3', 'key4']) <class 'dict_keys'>\n",
      "dict_values(['val1', 'val2', 'val3', 'val4'])\n",
      "dict_items([('key1', 'val1'), ('key2', 'val2'), ('key3', 'val3'), ('key4', 'val4')])\n",
      "('key1', 'val1')\n",
      "key1 val1\n",
      "('key2', 'val2')\n",
      "key2 val2\n",
      "('key3', 'val3')\n",
      "key3 val3\n",
      "('key4', 'val4')\n",
      "key4 val4\n"
     ]
    }
   ],
   "source": [
    "# 딕셔너리, for로 unpack하기.\n",
    "\n",
    "keyval = {'key1':'val1','key2':'val2','key3':'val3','key4':'val4'}\n",
    "print(keyval.keys(),type(keyval.keys()))\n",
    "print(keyval.values())\n",
    "print(keyval.items())\n",
    "for item in keyval.items():\n",
    "    print(item)\n",
    "    print(item[0],item[1])"
   ]
  },
  {
   "cell_type": "code",
   "execution_count": 32,
   "id": "823c4de0",
   "metadata": {},
   "outputs": [
    {
     "data": {
      "text/plain": [
       "[(0, 1), (1, 2), (2, 3)]"
      ]
     },
     "execution_count": 32,
     "metadata": {},
     "output_type": "execute_result"
    }
   ],
   "source": [
    "list(enumerate([1,2,3])) #(인덱스, 값) 이렇게 나온다."
   ]
  },
  {
   "cell_type": "code",
   "execution_count": 33,
   "id": "e2a1302a",
   "metadata": {},
   "outputs": [
    {
     "name": "stdout",
     "output_type": "stream",
     "text": [
      "0 1\n",
      "1 2\n",
      "2 3\n"
     ]
    }
   ],
   "source": [
    "for i , val in enumerate([1,2,3]):\n",
    "    print(i, val)"
   ]
  },
  {
   "cell_type": "code",
   "execution_count": 34,
   "id": "8be795f9",
   "metadata": {},
   "outputs": [
    {
     "name": "stdout",
     "output_type": "stream",
     "text": [
      "1\n",
      "2\n",
      "3\n",
      "1\n",
      "2\n",
      "3\n"
     ]
    }
   ],
   "source": [
    "lst = [1,2,3]\n",
    "for num in lst:\n",
    "    print(num)\n",
    "    \n",
    "    # i = 0, 1, 2\n",
    "for i in range(len(lst)): # 인덱스로 개별 요소에 접근\n",
    "    print(lst[i])\n",
    "    \n",
    "# 두 for문은 같은 일을 한다.\n",
    "# 하지만 인덱스로 접근하는게 몇가지 장점이 있다.\n",
    "## 인덱스 i에 있는 값을 변경하거나 수정하려면 인덱스 위치를 아는게 좋기 때문.\n"
   ]
  },
  {
   "cell_type": "code",
   "execution_count": 35,
   "id": "3577c681",
   "metadata": {},
   "outputs": [
    {
     "name": "stdout",
     "output_type": "stream",
     "text": [
      "12,12,12,12,12,1"
     ]
    }
   ],
   "source": [
    "for i in range(10) :\n",
    "    print(1,end='')\n",
    "    if i == 5:\n",
    "        break\n",
    "    print(2,end=',')"
   ]
  },
  {
   "cell_type": "code",
   "execution_count": null,
   "id": "9b067fe1",
   "metadata": {},
   "outputs": [],
   "source": []
  }
 ],
 "metadata": {
  "kernelspec": {
   "display_name": "Python 3 (ipykernel)",
   "language": "python",
   "name": "python3"
  },
  "language_info": {
   "codemirror_mode": {
    "name": "ipython",
    "version": 3
   },
   "file_extension": ".py",
   "mimetype": "text/x-python",
   "name": "python",
   "nbconvert_exporter": "python",
   "pygments_lexer": "ipython3",
   "version": "3.9.13"
  }
 },
 "nbformat": 4,
 "nbformat_minor": 5
}
